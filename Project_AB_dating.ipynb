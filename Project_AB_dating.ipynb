{
 "cells": [
  {
   "cell_type": "markdown",
   "metadata": {},
   "source": [
    "# Проект по AB-тестам. Приложение знакомств"
   ]
  },
  {
   "cell_type": "markdown",
   "metadata": {},
   "source": [
    "Вы работаете аналитиком в приложении для онлайн-знакомств. Механика приложения следующая: пользователи видят в приложении анкеты друг друга и могут ставить друг другу лайки или дизлайки. Если пользователи поставили друг другу лайк – это называется мэтч, и у пользователей появляется возможность познакомиться.\n",
    "\n",
    "Команда приложения разработала новый алгоритм для поиска наиболее подходящих анкет. Для проверки работы алгоритма был проведен АБ-тест. Все пользователи были разделены на две группы. Пользователи в группе с номером 0 пользовались приложением со старым алгоритмом. Все пользователи в группе 1 пользовались приложением с новым алгоритмом для поиска анкет.\n",
    "\n",
    "Ваша задача – оценить, правда ли, что новый алгоритм улучшил качество сервиса. Для этого нужно выбрать метрики, которые отвечают за качество сервиса, и статистически сравнить эти метрики в двух группах.  \n",
    "  \n",
    "В данных находится выгрузка логов взаимодействия пользователей друг с другом. Для каждой пары пользователей указано, из какой они группы АБ-теста и случился ли у них мэтч.\n",
    "\n",
    "Результат вашей работы – аналитическое заключение с ответом на вопрос, стоит ли включать новую систему поиска анкет на всех пользователей."
   ]
  },
  {
   "cell_type": "code",
   "execution_count": 1,
   "metadata": {},
   "outputs": [],
   "source": [
    "import pandas as pd\n",
    "import numpy as np\n",
    "from scipy import stats\n",
    "from scipy.stats import chi2_contingency\n",
    "\n",
    "import statsmodels.api as sm\n",
    "\n",
    "import seaborn as sns\n",
    "import matplotlib.pyplot as plt\n",
    "%matplotlib inline"
   ]
  },
  {
   "cell_type": "code",
   "execution_count": 2,
   "metadata": {},
   "outputs": [],
   "source": [
    "df = pd.read_csv(\"dating_data.csv\")"
   ]
  },
  {
   "cell_type": "markdown",
   "metadata": {},
   "source": [
    "# EDA"
   ]
  },
  {
   "cell_type": "code",
   "execution_count": 3,
   "metadata": {},
   "outputs": [
    {
     "data": {
      "text/plain": [
       "(14514, 4)"
      ]
     },
     "execution_count": 3,
     "metadata": {},
     "output_type": "execute_result"
    }
   ],
   "source": [
    "df.shape"
   ]
  },
  {
   "cell_type": "code",
   "execution_count": 4,
   "metadata": {},
   "outputs": [
    {
     "data": {
      "text/html": [
       "<div>\n",
       "<style scoped>\n",
       "    .dataframe tbody tr th:only-of-type {\n",
       "        vertical-align: middle;\n",
       "    }\n",
       "\n",
       "    .dataframe tbody tr th {\n",
       "        vertical-align: top;\n",
       "    }\n",
       "\n",
       "    .dataframe thead th {\n",
       "        text-align: right;\n",
       "    }\n",
       "</style>\n",
       "<table border=\"1\" class=\"dataframe\">\n",
       "  <thead>\n",
       "    <tr style=\"text-align: right;\">\n",
       "      <th></th>\n",
       "      <th>user_id_1</th>\n",
       "      <th>user_id_2</th>\n",
       "      <th>group</th>\n",
       "      <th>is_match</th>\n",
       "    </tr>\n",
       "  </thead>\n",
       "  <tbody>\n",
       "    <tr>\n",
       "      <th>0</th>\n",
       "      <td>79</td>\n",
       "      <td>91</td>\n",
       "      <td>1</td>\n",
       "      <td>1</td>\n",
       "    </tr>\n",
       "    <tr>\n",
       "      <th>1</th>\n",
       "      <td>716</td>\n",
       "      <td>353</td>\n",
       "      <td>1</td>\n",
       "      <td>1</td>\n",
       "    </tr>\n",
       "    <tr>\n",
       "      <th>2</th>\n",
       "      <td>423</td>\n",
       "      <td>677</td>\n",
       "      <td>0</td>\n",
       "      <td>0</td>\n",
       "    </tr>\n",
       "    <tr>\n",
       "      <th>3</th>\n",
       "      <td>658</td>\n",
       "      <td>165</td>\n",
       "      <td>1</td>\n",
       "      <td>1</td>\n",
       "    </tr>\n",
       "    <tr>\n",
       "      <th>4</th>\n",
       "      <td>969</td>\n",
       "      <td>155</td>\n",
       "      <td>0</td>\n",
       "      <td>1</td>\n",
       "    </tr>\n",
       "  </tbody>\n",
       "</table>\n",
       "</div>"
      ],
      "text/plain": [
       "   user_id_1  user_id_2  group  is_match\n",
       "0         79         91      1         1\n",
       "1        716        353      1         1\n",
       "2        423        677      0         0\n",
       "3        658        165      1         1\n",
       "4        969        155      0         1"
      ]
     },
     "execution_count": 4,
     "metadata": {},
     "output_type": "execute_result"
    }
   ],
   "source": [
    "df.head()"
   ]
  },
  {
   "cell_type": "markdown",
   "metadata": {},
   "source": [
    "Чтобы не заблудиться в потоках информации, декомпозирую этап предобработки данных на степы. Для этого отвечу на следующие вопросы общего характера:\n",
    "1. Сколько было мэтчей и сколько было действей (любых свайпов) в тестовой и контрольной группе?\n",
    "2. Понять природу групп юзеров (user_id_1, user_id_2). Количество уникальных юзеров в каждой группе. Есть ли повторяющиеся айдишники между этими двумя группами\n",
    "3. Трансформировать данные под удобный формат"
   ]
  },
  {
   "cell_type": "code",
   "execution_count": 5,
   "metadata": {},
   "outputs": [
    {
     "data": {
      "text/html": [
       "<div>\n",
       "<style scoped>\n",
       "    .dataframe tbody tr th:only-of-type {\n",
       "        vertical-align: middle;\n",
       "    }\n",
       "\n",
       "    .dataframe tbody tr th {\n",
       "        vertical-align: top;\n",
       "    }\n",
       "\n",
       "    .dataframe thead th {\n",
       "        text-align: right;\n",
       "    }\n",
       "</style>\n",
       "<table border=\"1\" class=\"dataframe\">\n",
       "  <thead>\n",
       "    <tr style=\"text-align: right;\">\n",
       "      <th></th>\n",
       "      <th>group</th>\n",
       "      <th>is_match</th>\n",
       "    </tr>\n",
       "  </thead>\n",
       "  <tbody>\n",
       "    <tr>\n",
       "      <th>0</th>\n",
       "      <td>0</td>\n",
       "      <td>3858</td>\n",
       "    </tr>\n",
       "    <tr>\n",
       "      <th>1</th>\n",
       "      <td>0</td>\n",
       "      <td>934</td>\n",
       "    </tr>\n",
       "    <tr>\n",
       "      <th>2</th>\n",
       "      <td>1</td>\n",
       "      <td>5813</td>\n",
       "    </tr>\n",
       "    <tr>\n",
       "      <th>3</th>\n",
       "      <td>1</td>\n",
       "      <td>3909</td>\n",
       "    </tr>\n",
       "  </tbody>\n",
       "</table>\n",
       "</div>"
      ],
      "text/plain": [
       "   group  is_match\n",
       "0      0      3858\n",
       "1      0       934\n",
       "2      1      5813\n",
       "3      1      3909"
      ]
     },
     "execution_count": 5,
     "metadata": {},
     "output_type": "execute_result"
    }
   ],
   "source": [
    "# Количество взаимодействий по категориям для экспериментальных групп\n",
    "df.groupby(['group', 'is_match'], as_index = False).agg({'is_match' : 'count'})"
   ]
  },
  {
   "cell_type": "code",
   "execution_count": 6,
   "metadata": {},
   "outputs": [
    {
     "data": {
      "text/plain": [
       "1    9722\n",
       "0    4792\n",
       "Name: group, dtype: int64"
      ]
     },
     "execution_count": 6,
     "metadata": {},
     "output_type": "execute_result"
    }
   ],
   "source": [
    "# Суммарное количество всех действий для экспериментальных групп\n",
    "df.group.value_counts()"
   ]
  },
  {
   "cell_type": "code",
   "execution_count": 7,
   "metadata": {},
   "outputs": [
    {
     "data": {
      "text/plain": [
       "1000"
      ]
     },
     "execution_count": 7,
     "metadata": {},
     "output_type": "execute_result"
    }
   ],
   "source": [
    "df.user_id_1.nunique()"
   ]
  },
  {
   "cell_type": "code",
   "execution_count": 8,
   "metadata": {},
   "outputs": [
    {
     "data": {
      "text/plain": [
       "1000"
      ]
     },
     "execution_count": 8,
     "metadata": {},
     "output_type": "execute_result"
    }
   ],
   "source": [
    "df.user_id_2.nunique()"
   ]
  },
  {
   "cell_type": "code",
   "execution_count": 9,
   "metadata": {},
   "outputs": [
    {
     "data": {
      "text/plain": [
       "14514"
      ]
     },
     "execution_count": 9,
     "metadata": {},
     "output_type": "execute_result"
    }
   ],
   "source": [
    "df.query(\"user_id_1 in user_id_2\").shape[0] # Все айдишники из первой группы есть во второй"
   ]
  },
  {
   "cell_type": "code",
   "execution_count": 10,
   "metadata": {},
   "outputs": [
    {
     "data": {
      "text/plain": [
       "0"
      ]
     },
     "execution_count": 10,
     "metadata": {},
     "output_type": "execute_result"
    }
   ],
   "source": [
    "df.query(\"user_id_1 == user_id_2\").shape[0] # Вдруг присутствуют одинаковые айдишники при свайпах"
   ]
  },
  {
   "cell_type": "markdown",
   "metadata": {},
   "source": [
    "Мы имеем дело c повторяющимися айдишниками между группами юзеров (т.е. айдишники из user_id_1 есть и в user_id_2), а также общее количество для каждой группы - 1000. Понять, какое у нас разбиение между группами: по сегментам (условно, по полу) - т.е. всего 2000 пользователей (по 1000 в каждой группе), или всего всех юзеров 1000 и они просто перетасованы между групами, можно по тому, что одинаковые айдишники в первых двух колонках имеют разное количество свайпов и пар (об этом чуть дальше). То есть совпадающие айдишники принадлежат на самом деле разным юзерам, таким образом, юзеров всего у нас 2000."
   ]
  },
  {
   "cell_type": "code",
   "execution_count": 11,
   "metadata": {},
   "outputs": [],
   "source": [
    "# Посчитаем количества взаимодействий.свайпов и мэтчей для каждого юзера\n",
    "df['user_id_1_count'] = df.groupby('user_id_1')['user_id_1'].transform('count')\n",
    "df['user_id_2_count'] = df.groupby('user_id_2')['user_id_2'].transform('count')\n",
    "df['user_id_1_match_count'] = df.groupby('user_id_1')['is_match'].transform('sum')\n",
    "df['user_id_2_match_count'] = df.groupby('user_id_2')['is_match'].transform('sum')"
   ]
  },
  {
   "cell_type": "code",
   "execution_count": 12,
   "metadata": {},
   "outputs": [
    {
     "data": {
      "text/html": [
       "<div>\n",
       "<style scoped>\n",
       "    .dataframe tbody tr th:only-of-type {\n",
       "        vertical-align: middle;\n",
       "    }\n",
       "\n",
       "    .dataframe tbody tr th {\n",
       "        vertical-align: top;\n",
       "    }\n",
       "\n",
       "    .dataframe thead th {\n",
       "        text-align: right;\n",
       "    }\n",
       "</style>\n",
       "<table border=\"1\" class=\"dataframe\">\n",
       "  <thead>\n",
       "    <tr style=\"text-align: right;\">\n",
       "      <th></th>\n",
       "      <th>user_id_1</th>\n",
       "      <th>user_id_2</th>\n",
       "      <th>group</th>\n",
       "      <th>is_match</th>\n",
       "      <th>user_id_1_count</th>\n",
       "      <th>user_id_2_count</th>\n",
       "      <th>user_id_1_match_count</th>\n",
       "      <th>user_id_2_match_count</th>\n",
       "    </tr>\n",
       "  </thead>\n",
       "  <tbody>\n",
       "    <tr>\n",
       "      <th>0</th>\n",
       "      <td>79</td>\n",
       "      <td>91</td>\n",
       "      <td>1</td>\n",
       "      <td>1</td>\n",
       "      <td>11</td>\n",
       "      <td>20</td>\n",
       "      <td>4</td>\n",
       "      <td>9</td>\n",
       "    </tr>\n",
       "    <tr>\n",
       "      <th>1</th>\n",
       "      <td>716</td>\n",
       "      <td>353</td>\n",
       "      <td>1</td>\n",
       "      <td>1</td>\n",
       "      <td>20</td>\n",
       "      <td>21</td>\n",
       "      <td>9</td>\n",
       "      <td>8</td>\n",
       "    </tr>\n",
       "    <tr>\n",
       "      <th>2</th>\n",
       "      <td>423</td>\n",
       "      <td>677</td>\n",
       "      <td>0</td>\n",
       "      <td>0</td>\n",
       "      <td>12</td>\n",
       "      <td>7</td>\n",
       "      <td>1</td>\n",
       "      <td>1</td>\n",
       "    </tr>\n",
       "  </tbody>\n",
       "</table>\n",
       "</div>"
      ],
      "text/plain": [
       "   user_id_1  user_id_2  group  is_match  user_id_1_count  user_id_2_count  \\\n",
       "0         79         91      1         1               11               20   \n",
       "1        716        353      1         1               20               21   \n",
       "2        423        677      0         0               12                7   \n",
       "\n",
       "   user_id_1_match_count  user_id_2_match_count  \n",
       "0                      4                      9  \n",
       "1                      9                      8  \n",
       "2                      1                      1  "
      ]
     },
     "execution_count": 12,
     "metadata": {},
     "output_type": "execute_result"
    }
   ],
   "source": [
    "df[:3]"
   ]
  },
  {
   "cell_type": "code",
   "execution_count": 13,
   "metadata": {},
   "outputs": [
    {
     "data": {
      "image/png": "[encoded data removed]",
      "text/plain": [
       "<Figure size 864x288 with 2 Axes>"
      ]
     },
     "metadata": {
      "needs_background": "light"
     },
     "output_type": "display_data"
    }
   ],
   "source": [
    "fig, axes = plt.subplots(1, 2, figsize=(12, 4))\n",
    "\n",
    "sns.histplot(df['user_id_1_count'], ax=axes[0])\n",
    "axes[0].set_title('Распределение количества свайпов для юзеров из 1 группы')\n",
    "\n",
    "sns.histplot(df['user_id_2_count'], ax=axes[1])\n",
    "axes[1].set_title('Распределение количества свайпов для юзеров 2 группы')\n",
    "\n",
    "plt.tight_layout() \n",
    "plt.show()\n"
   ]
  },
  {
   "cell_type": "markdown",
   "metadata": {},
   "source": [
    "Распределение количества взаимодействий/свайпов по юзерам тоже не дало однозначной информации.  \n",
    "  \n",
    "  \n",
    "Приму решение взять за основу то, что у нас есть всего 2000 уникальных пользователей с неуникальными айдишниками на обе группы. То есть присутствует сегментация по каким-либо признакам, например гендерным, между группой user_id_1 и user_id_2.   \n",
    "  "
   ]
  },
  {
   "cell_type": "markdown",
   "metadata": {},
   "source": [
    "#### Рассуждения по выбору метрик"
   ]
  },
  {
   "cell_type": "markdown",
   "metadata": {},
   "source": [
    "Теперь необходимо определить, по каким критериям мы можем определить качество сервиса. Для начала отмечу, я предполагаю, что у нас имеются репрезентативные выборки для каждой экспериментальной пары юзеров, например, рандомным образом брались пользователи за один и тот же промежуток времени.   \n",
    "Рассмотрим ситуацию со стороны выгоды для нашего сервиса и со стороны юзера на основе наших данных.  \n",
    "- Со стороны юзера ключевым показателем удовлетворения от сервиса (если рассматривать только предоставленные данные) является наибольшее значение отношения частоты мэтчей на частоту свайпов. Т.е. \"чаще мэтчиться - реже свайпать\".\n",
    "- Для нас же важно все: и как часто пользователь свайпал, т.е., как долго клиент пользуется сервисом, и степень удовлетворенности клиента. Отмечу, частота мэтчей, хоть и косвенно будет отражать степень довольности юзера - зачастую дейтинг сервисам будет профитнее искуственно сдерживать пользователей на количество мэтчей, оставляя некоторый буфер потенциальных мэтчей, чтобы пользователь мог получить их, например, при оформлении платных подписок. С другой стороны, если сервис относительно новый, то нашей основной задачей будет привлечь клиентов, а не прибыль в краткосрок. В общем, много ньюансов, на которые пока все-таки посмею закрыть глаза, т.к. данные довольно-таки ограничены, а также в задаче нет ограничения на уровень качественности сервиса, да и многое можно будет сделать уже маркетологам постфактум на основе предоставленных данных.  \n",
    "  \n",
    "\n",
    "Как в итоге нам поступить? \n",
    "- учитывать интересы пользователей, чтобы благодаря их удовлетворенности оценить, что мы удерживаем их как можно лучше? \n",
    "- считать только количество мэтчей? \n",
    "- считать только количество свайпов каждого пользователя? Это по идее отразит общее увеличение спроса на сервис  \n",
    "  \n",
    "Основой качества сервиса нужно считать заинтересованность аудитории в нем, т.к. это один из ключевых факторов, влияющий на существенное количество других показателей и метрик (RR, сарафанное радио etc.), как итог - на увеличение прибыли. Заинтересованность зависит от удовлетворенности. Поэтому считаю, что здесь необходимо использовать первый подход, как основной, т.е. найти **отношения количества мэтчей на количество свайпов/взаимодействий для каждого пользователя**. Назовем ее **AMOS - Average Matches Of Swipes**. Это наша первая метрика.  \n",
    "  \n",
    "  Метрики общих количеств мэтчей или свайпов/взаимодействий тоже довольно полезны для оценки. Проверять буду **метрику средних мэтчей, равное отношению общего числа мэтчей на число юзеров в каждой экспериментальной группе**. Это наша вторая метрика.\n",
    "    \n",
    "      \n",
    "Нам неизвестно, по какому принципу в колонке *is_match* выставляются значения.В задании сказано: *В данных находится выгрузка логов взаимодействия пользователей друг с другом. Для каждой пары пользователей указано, из какой они группы АБ-теста и случился ли у них мэтч.* Что считать под взаимодействием: показ хотя бы одному в подборке или обязательный взаимный показ? То есть это может быть: \n",
    "- для юзера из первой колонки. Если свайп без мэтча - 0, если с мэтчем - 1\n",
    "- для юзера из второй колонки. Если свайп без мэтча - 0, если с мэтчем - 1\n",
    "- для первого и для второго сразу, не учитывая отказ. Если у обоих друг для друга свайпы без мэтча - 0, если с мэтчем у обоих - 1. В ином случае данные не попадают в наш изначальный фрейм\n",
    "- для перового и для второго, учитывая отказ. Если у обоих друг для друга взаимные свайпы без мэтча, или с мэтчем, но только для одного - 0, если с мэтчем у обоих - 1  \n",
    "  \n",
    "  \n",
    "Если первые два варианта не совсем совпадают с описанием данных, то и третий, и четвертый будут оба подходить под описание. Я буду рассматривать чуть более подходящий под описание на мой взгляд вариант - четвертый. Таким образом, только если обоим пользователям были осущствлены взаимные показы друг друга -> они попали в логи -> 0 - свайп у обоих, но не мэтч; 1 - мэтч.   \n",
    "  \n",
    "  \n",
    "Последней метрикой будет расчет **конверсии по мэтчам**. Это наша третья метрика."
   ]
  },
  {
   "cell_type": "markdown",
   "metadata": {},
   "source": [
    "### Итак, выбранные метрики:\n",
    "1. **AMOS**. ((Количество мэтчей / количество взаимодействией для пользователя) * 100%) / число пользователей\n",
    "2. **Среднее число мэтчей**. Общее количество мэтчей / число пользователей\n",
    "3. **Конверсия по мэтчам**"
   ]
  },
  {
   "cell_type": "code",
   "execution_count": null,
   "metadata": {},
   "outputs": [],
   "source": []
  },
  {
   "cell_type": "markdown",
   "metadata": {},
   "source": [
    "#### Подготовка к анализу"
   ]
  },
  {
   "cell_type": "code",
   "execution_count": 14,
   "metadata": {},
   "outputs": [],
   "source": [
    "# Разобьем на группы юзеров\n",
    "df_user_id_1 = df[['user_id_1', 'group', 'user_id_1_count', 'user_id_1_match_count']].drop_duplicates()\n",
    "df_user_id_2 = df[['user_id_2', 'group', 'user_id_2_count', 'user_id_2_match_count']].drop_duplicates()\n"
   ]
  },
  {
   "cell_type": "code",
   "execution_count": 15,
   "metadata": {},
   "outputs": [],
   "source": [
    "df_user_id_1.rename(columns = {'user_id_1' : 'id', \n",
    "                               'user_id_1_count' : 'swipe_count', \n",
    "                               'user_id_1_match_count' : 'match_count'},\n",
    "                   inplace = True)\n",
    "df_user_id_2.rename(columns = {'user_id_2' : 'id', \n",
    "                               'user_id_2_count' : 'swipe_count', \n",
    "                               'user_id_2_match_count' : 'match_count'},\n",
    "                   inplace = True)"
   ]
  },
  {
   "cell_type": "markdown",
   "metadata": {},
   "source": [
    "`MOS = (Количество мэтчей / количество взаимодействией для пользователя) * 100%`"
   ]
  },
  {
   "cell_type": "code",
   "execution_count": 16,
   "metadata": {},
   "outputs": [],
   "source": [
    "# Введем колонки с сегментами и метриками MOS\n",
    "df_user_id_1['segment'] = 1\n",
    "df_user_id_2['segment'] = 2\n",
    "df_user_id_1['metrik'] = ((df_user_id_1.match_count / df_user_id_1.swipe_count) * 100).round(2)\n",
    "df_user_id_2['metrik'] = ((df_user_id_2.match_count / df_user_id_2.swipe_count) * 100).round(2)"
   ]
  },
  {
   "cell_type": "code",
   "execution_count": 17,
   "metadata": {},
   "outputs": [
    {
     "data": {
      "text/html": [
       "<div>\n",
       "<style scoped>\n",
       "    .dataframe tbody tr th:only-of-type {\n",
       "        vertical-align: middle;\n",
       "    }\n",
       "\n",
       "    .dataframe tbody tr th {\n",
       "        vertical-align: top;\n",
       "    }\n",
       "\n",
       "    .dataframe thead th {\n",
       "        text-align: right;\n",
       "    }\n",
       "</style>\n",
       "<table border=\"1\" class=\"dataframe\">\n",
       "  <thead>\n",
       "    <tr style=\"text-align: right;\">\n",
       "      <th></th>\n",
       "      <th>id</th>\n",
       "      <th>group</th>\n",
       "      <th>swipe_count</th>\n",
       "      <th>match_count</th>\n",
       "      <th>segment</th>\n",
       "      <th>metrik</th>\n",
       "    </tr>\n",
       "  </thead>\n",
       "  <tbody>\n",
       "    <tr>\n",
       "      <th>0</th>\n",
       "      <td>79</td>\n",
       "      <td>1</td>\n",
       "      <td>11</td>\n",
       "      <td>4</td>\n",
       "      <td>1</td>\n",
       "      <td>36.36</td>\n",
       "    </tr>\n",
       "  </tbody>\n",
       "</table>\n",
       "</div>"
      ],
      "text/plain": [
       "   id  group  swipe_count  match_count  segment  metrik\n",
       "0  79      1           11            4        1   36.36"
      ]
     },
     "execution_count": 17,
     "metadata": {},
     "output_type": "execute_result"
    }
   ],
   "source": [
    "df_user_id_1[:1]"
   ]
  },
  {
   "cell_type": "code",
   "execution_count": 18,
   "metadata": {},
   "outputs": [
    {
     "data": {
      "text/html": [
       "<div>\n",
       "<style scoped>\n",
       "    .dataframe tbody tr th:only-of-type {\n",
       "        vertical-align: middle;\n",
       "    }\n",
       "\n",
       "    .dataframe tbody tr th {\n",
       "        vertical-align: top;\n",
       "    }\n",
       "\n",
       "    .dataframe thead th {\n",
       "        text-align: right;\n",
       "    }\n",
       "</style>\n",
       "<table border=\"1\" class=\"dataframe\">\n",
       "  <thead>\n",
       "    <tr style=\"text-align: right;\">\n",
       "      <th></th>\n",
       "      <th>id</th>\n",
       "      <th>group</th>\n",
       "      <th>swipe_count</th>\n",
       "      <th>match_count</th>\n",
       "      <th>segment</th>\n",
       "      <th>metrik</th>\n",
       "    </tr>\n",
       "  </thead>\n",
       "  <tbody>\n",
       "    <tr>\n",
       "      <th>0</th>\n",
       "      <td>91</td>\n",
       "      <td>1</td>\n",
       "      <td>20</td>\n",
       "      <td>9</td>\n",
       "      <td>2</td>\n",
       "      <td>45.0</td>\n",
       "    </tr>\n",
       "  </tbody>\n",
       "</table>\n",
       "</div>"
      ],
      "text/plain": [
       "   id  group  swipe_count  match_count  segment  metrik\n",
       "0  91      1           20            9        2    45.0"
      ]
     },
     "execution_count": 18,
     "metadata": {},
     "output_type": "execute_result"
    }
   ],
   "source": [
    "df_user_id_2[:1]"
   ]
  },
  {
   "cell_type": "code",
   "execution_count": null,
   "metadata": {},
   "outputs": [],
   "source": []
  },
  {
   "cell_type": "markdown",
   "metadata": {},
   "source": [
    "#### Рассуждения по слитию сегментов юзеров"
   ]
  },
  {
   "cell_type": "markdown",
   "metadata": {},
   "source": [
    "Мы пришли к следующей сложности - имеем две группы, разделенных по непонятно какому признаку. Задача: определить, можно ли их слить или проводить анализ отдельно для каждой группы.  \n",
    "Скажу вот что, основываясь на логике, имхо, не совсем корректно объединять в одну выборку две, разделенные, скажем, по гендерному признаку. Возможно следовало сделать это отдельно друг от друга, но т.к. распределения почти одинаковы (аргумент \"за\"):"
   ]
  },
  {
   "cell_type": "code",
   "execution_count": 19,
   "metadata": {},
   "outputs": [
    {
     "data": {
      "image/png": "[encoded data removed]",
      "text/plain": [
       "<Figure size 411.75x360 with 1 Axes>"
      ]
     },
     "metadata": {
      "needs_background": "light"
     },
     "output_type": "display_data"
    }
   ],
   "source": [
    "sns.displot(pd.concat([df_user_id_1, df_user_id_2]), x = 'metrik', hue = 'segment', \n",
    "             kde = True)\n",
    "plt.show()"
   ]
  },
  {
   "cell_type": "markdown",
   "metadata": {},
   "source": [
    "P-value статистического различия средних у двух групп юзеров не позволяет нам ничего сказать (аргумент ни \"за\", ни \"против\"):"
   ]
  },
  {
   "cell_type": "code",
   "execution_count": 20,
   "metadata": {},
   "outputs": [
    {
     "name": "stdout",
     "output_type": "stream",
     "text": [
      "ShapiroResult(statistic=0.9822156429290771, pvalue=1.0724484633684028e-09)\n",
      "ShapiroResult(statistic=0.9835116267204285, pvalue=3.3343956484799264e-09)\n",
      "BartlettResult(statistic=0.06720735162443046, pvalue=0.7954471327812147)\n",
      "Ttest_indResult(statistic=0.11145237349285388, pvalue=0.9112688253241665)\n"
     ]
    }
   ],
   "source": [
    "print(stats.shapiro(df_user_id_1.metrik))\n",
    "print(stats.shapiro(df_user_id_2.metrik))\n",
    "print(stats.bartlett(df_user_id_1.metrik, df_user_id_2.metrik))\n",
    "print(stats.ttest_ind(df_user_id_1.metrik, df_user_id_2.metrik))"
   ]
  },
  {
   "cell_type": "markdown",
   "metadata": {},
   "source": [
    "Я все-таки солью их, т.к. в задаче ничего не сказано (2.5 аргумента \"за\" против 0.5 \"против\")."
   ]
  },
  {
   "cell_type": "code",
   "execution_count": 21,
   "metadata": {},
   "outputs": [
    {
     "data": {
      "image/png": "[encoded data removed]",
      "text/plain": [
       "<Figure size 432x288 with 1 Axes>"
      ]
     },
     "metadata": {
      "needs_background": "light"
     },
     "output_type": "display_data"
    }
   ],
   "source": [
    "fig = sm.qqplot(df_user_id_1.metrik, line='q')\n",
    "plt.show()"
   ]
  },
  {
   "cell_type": "markdown",
   "metadata": {},
   "source": [
    "Сливаем"
   ]
  },
  {
   "cell_type": "code",
   "execution_count": 22,
   "metadata": {},
   "outputs": [],
   "source": [
    "df_user_id_1['id'] = df_user_id_1['id'] + 1000\n",
    "df_user_id_2['id'] = df_user_id_2['id'] + 2000\n",
    "\n",
    "df_total = pd.concat([df_user_id_1, df_user_id_2])"
   ]
  },
  {
   "cell_type": "code",
   "execution_count": 23,
   "metadata": {},
   "outputs": [
    {
     "data": {
      "text/html": [
       "<div>\n",
       "<style scoped>\n",
       "    .dataframe tbody tr th:only-of-type {\n",
       "        vertical-align: middle;\n",
       "    }\n",
       "\n",
       "    .dataframe tbody tr th {\n",
       "        vertical-align: top;\n",
       "    }\n",
       "\n",
       "    .dataframe thead th {\n",
       "        text-align: right;\n",
       "    }\n",
       "</style>\n",
       "<table border=\"1\" class=\"dataframe\">\n",
       "  <thead>\n",
       "    <tr style=\"text-align: right;\">\n",
       "      <th></th>\n",
       "      <th>id</th>\n",
       "      <th>group</th>\n",
       "      <th>swipe_count</th>\n",
       "      <th>match_count</th>\n",
       "      <th>segment</th>\n",
       "      <th>metrik</th>\n",
       "    </tr>\n",
       "  </thead>\n",
       "  <tbody>\n",
       "    <tr>\n",
       "      <th>0</th>\n",
       "      <td>1079</td>\n",
       "      <td>1</td>\n",
       "      <td>11</td>\n",
       "      <td>4</td>\n",
       "      <td>1</td>\n",
       "      <td>36.36</td>\n",
       "    </tr>\n",
       "    <tr>\n",
       "      <th>1</th>\n",
       "      <td>1716</td>\n",
       "      <td>1</td>\n",
       "      <td>20</td>\n",
       "      <td>9</td>\n",
       "      <td>1</td>\n",
       "      <td>45.00</td>\n",
       "    </tr>\n",
       "    <tr>\n",
       "      <th>2</th>\n",
       "      <td>1423</td>\n",
       "      <td>0</td>\n",
       "      <td>12</td>\n",
       "      <td>1</td>\n",
       "      <td>1</td>\n",
       "      <td>8.33</td>\n",
       "    </tr>\n",
       "    <tr>\n",
       "      <th>3</th>\n",
       "      <td>1658</td>\n",
       "      <td>1</td>\n",
       "      <td>18</td>\n",
       "      <td>13</td>\n",
       "      <td>1</td>\n",
       "      <td>72.22</td>\n",
       "    </tr>\n",
       "    <tr>\n",
       "      <th>4</th>\n",
       "      <td>1969</td>\n",
       "      <td>0</td>\n",
       "      <td>11</td>\n",
       "      <td>5</td>\n",
       "      <td>1</td>\n",
       "      <td>45.45</td>\n",
       "    </tr>\n",
       "    <tr>\n",
       "      <th>...</th>\n",
       "      <td>...</td>\n",
       "      <td>...</td>\n",
       "      <td>...</td>\n",
       "      <td>...</td>\n",
       "      <td>...</td>\n",
       "      <td>...</td>\n",
       "    </tr>\n",
       "    <tr>\n",
       "      <th>6795</th>\n",
       "      <td>2917</td>\n",
       "      <td>1</td>\n",
       "      <td>13</td>\n",
       "      <td>6</td>\n",
       "      <td>2</td>\n",
       "      <td>46.15</td>\n",
       "    </tr>\n",
       "    <tr>\n",
       "      <th>7508</th>\n",
       "      <td>2502</td>\n",
       "      <td>0</td>\n",
       "      <td>6</td>\n",
       "      <td>2</td>\n",
       "      <td>2</td>\n",
       "      <td>33.33</td>\n",
       "    </tr>\n",
       "    <tr>\n",
       "      <th>7802</th>\n",
       "      <td>2027</td>\n",
       "      <td>0</td>\n",
       "      <td>3</td>\n",
       "      <td>2</td>\n",
       "      <td>2</td>\n",
       "      <td>66.67</td>\n",
       "    </tr>\n",
       "    <tr>\n",
       "      <th>8579</th>\n",
       "      <td>2077</td>\n",
       "      <td>0</td>\n",
       "      <td>4</td>\n",
       "      <td>0</td>\n",
       "      <td>2</td>\n",
       "      <td>0.00</td>\n",
       "    </tr>\n",
       "    <tr>\n",
       "      <th>9485</th>\n",
       "      <td>2097</td>\n",
       "      <td>0</td>\n",
       "      <td>5</td>\n",
       "      <td>0</td>\n",
       "      <td>2</td>\n",
       "      <td>0.00</td>\n",
       "    </tr>\n",
       "  </tbody>\n",
       "</table>\n",
       "<p>2000 rows × 6 columns</p>\n",
       "</div>"
      ],
      "text/plain": [
       "        id  group  swipe_count  match_count  segment  metrik\n",
       "0     1079      1           11            4        1   36.36\n",
       "1     1716      1           20            9        1   45.00\n",
       "2     1423      0           12            1        1    8.33\n",
       "3     1658      1           18           13        1   72.22\n",
       "4     1969      0           11            5        1   45.45\n",
       "...    ...    ...          ...          ...      ...     ...\n",
       "6795  2917      1           13            6        2   46.15\n",
       "7508  2502      0            6            2        2   33.33\n",
       "7802  2027      0            3            2        2   66.67\n",
       "8579  2077      0            4            0        2    0.00\n",
       "9485  2097      0            5            0        2    0.00\n",
       "\n",
       "[2000 rows x 6 columns]"
      ]
     },
     "execution_count": 23,
     "metadata": {},
     "output_type": "execute_result"
    }
   ],
   "source": [
    "df_total"
   ]
  },
  {
   "cell_type": "code",
   "execution_count": 24,
   "metadata": {},
   "outputs": [
    {
     "data": {
      "text/plain": [
       "0    1002\n",
       "1     998\n",
       "Name: group, dtype: int64"
      ]
     },
     "execution_count": 24,
     "metadata": {},
     "output_type": "execute_result"
    }
   ],
   "source": [
    "df_total.group.value_counts()"
   ]
  },
  {
   "cell_type": "markdown",
   "metadata": {},
   "source": [
    "Размер выборок для экспериментальных групп уникальных пользователей отличается, но незначительно - оставляем размер в 1000"
   ]
  },
  {
   "cell_type": "markdown",
   "metadata": {},
   "source": [
    "## Метрика AMOS"
   ]
  },
  {
   "cell_type": "markdown",
   "metadata": {},
   "source": [
    "Рассчитывается, как среднее метрик MOS или ((Количество мэтчей / количество взаимодействией) * 100%)<sub>user</sub> / число пользователей"
   ]
  },
  {
   "cell_type": "code",
   "execution_count": 25,
   "metadata": {},
   "outputs": [
    {
     "data": {
      "text/html": [
       "<div>\n",
       "<style scoped>\n",
       "    .dataframe tbody tr th:only-of-type {\n",
       "        vertical-align: middle;\n",
       "    }\n",
       "\n",
       "    .dataframe tbody tr th {\n",
       "        vertical-align: top;\n",
       "    }\n",
       "\n",
       "    .dataframe thead th {\n",
       "        text-align: right;\n",
       "    }\n",
       "</style>\n",
       "<table border=\"1\" class=\"dataframe\">\n",
       "  <thead>\n",
       "    <tr style=\"text-align: right;\">\n",
       "      <th></th>\n",
       "      <th>group</th>\n",
       "      <th>metrik</th>\n",
       "    </tr>\n",
       "  </thead>\n",
       "  <tbody>\n",
       "    <tr>\n",
       "      <th>0</th>\n",
       "      <td>0</td>\n",
       "      <td>19.320090</td>\n",
       "    </tr>\n",
       "    <tr>\n",
       "      <th>1</th>\n",
       "      <td>1</td>\n",
       "      <td>40.243768</td>\n",
       "    </tr>\n",
       "  </tbody>\n",
       "</table>\n",
       "</div>"
      ],
      "text/plain": [
       "   group     metrik\n",
       "0      0  19.320090\n",
       "1      1  40.243768"
      ]
     },
     "execution_count": 25,
     "metadata": {},
     "output_type": "execute_result"
    }
   ],
   "source": [
    "# Средние отличаются (но нужно узнать, статистически значимо ли)\n",
    "df_total.groupby('group', as_index = False).agg({'metrik' : 'mean'})"
   ]
  },
  {
   "cell_type": "markdown",
   "metadata": {},
   "source": [
    "$H_0$ - средние значения метрик в двух экспериментальных группах статистически значимо **не различаются**  \n",
    "$H_0$ - средние значения метрик в двух экспериментальных группах статистически значимо **различаются**   "
   ]
  },
  {
   "cell_type": "code",
   "execution_count": 26,
   "metadata": {},
   "outputs": [
    {
     "data": {
      "image/png": "[encoded data removed]",
      "text/plain": [
       "<Figure size 402.375x360 with 1 Axes>"
      ]
     },
     "metadata": {
      "needs_background": "light"
     },
     "output_type": "display_data"
    },
    {
     "name": "stdout",
     "output_type": "stream",
     "text": [
      "Дисперсия контрольной группы:  174.47780707776062\n",
      "Дисперсия тестовой группы:  129.129799432934\n",
      "p-value гомогенности дисперсий:  9.403272284570692e-06\n",
      "\n",
      "p-value нормальности для контрольной группы:  4.245122137962068e-16\n",
      "p-value нормальности для тестовой группы:  0.06796706467866898\n"
     ]
    }
   ],
   "source": [
    "# Проверим на нормальность распределние эксп. выборок перед применением стат. теста\n",
    "sns.displot(df_total, x = 'metrik', hue = 'group', kde = True)\n",
    "plt.show()\n",
    "\n",
    "print('Дисперсия контрольной группы: ', np.var(df_total.loc[df_total.group == 0].metrik))\n",
    "print('Дисперсия тестовой группы: ', np.var(df_total.loc[df_total.group == 1].metrik))\n",
    "\n",
    "print('p-value гомогенности дисперсий: ', stats.levene(df_total.loc[df_total.group == 0].metrik, \n",
    "                   df_total.loc[df_total.group == 1].metrik)[1])\n",
    "\n",
    "print('\\np-value нормальности для контрольной группы: ', stats.shapiro(df_total.loc[df_total.group == 0].metrik)[1])\n",
    "print('p-value нормальности для тестовой группы: ', stats.shapiro(df_total.loc[df_total.group == 1].metrik)[1])"
   ]
  },
  {
   "cell_type": "markdown",
   "metadata": {},
   "source": [
    "Условия нормальности распределений и гомогенности дисперсий, необходимые для применения критерия Стьюдента - не выполнены, т.к. p-value в обоих случаях меньше &alpha;. Т.к. имеем нулевые значения метрик, пролагорифмировать без потери данных и искажений распределения, путем добавления констант, не выйдет. Поэтому примение непараметрического теста Манна-Уитни для оценки средних будет более подходящим. В свою очередь, т.к. визуально  распределения близки к нормальным, я проведу и Т-тест тоже"
   ]
  },
  {
   "cell_type": "code",
   "execution_count": 27,
   "metadata": {},
   "outputs": [
    {
     "data": {
      "image/png": "[encoded data removed]",
      "text/plain": [
       "<Figure size 402.375x360 with 1 Axes>"
      ]
     },
     "metadata": {
      "needs_background": "light"
     },
     "output_type": "display_data"
    },
    {
     "name": "stdout",
     "output_type": "stream",
     "text": [
      "Дисперсия контрольной группы:  1.4352108068052936\n",
      "Дисперсия тестовой группы:  0.11704086723534979\n",
      "p-value гомогенности дисперсий:  3.3770368754507246e-67\n",
      "\n",
      "p-value нормальности для контрольной группы:  1.176644518665185e-35\n",
      "p-value нормальности для тестовой группы:  6.82398967954609e-31\n"
     ]
    }
   ],
   "source": [
    "# Проверим на нормальность распределние эксп. выборок перед применением стат. теста\n",
    "sns.displot(df_total, x = np.log(df_total.metrik + 1), hue = 'group', kde = True)\n",
    "plt.show()\n",
    "\n",
    "print('Дисперсия контрольной группы: ', np.var(np.log(df_total.loc[df_total.group == 0].metrik + 1)))\n",
    "print('Дисперсия тестовой группы: ', np.var(np.log(df_total.loc[df_total.group == 1].metrik + 1)))\n",
    "\n",
    "print('p-value гомогенности дисперсий: ', stats.levene(np.log(df_total.loc[df_total.group == 0].metrik + 1), \n",
    "                   np.log(df_total.loc[df_total.group == 1].metrik + 1))[1])\n",
    "\n",
    "print('\\np-value нормальности для контрольной группы: ', stats.shapiro(np.log(df_total.loc[df_total.group == 0].metrik + 1))[1])\n",
    "print('p-value нормальности для тестовой группы: ', stats.shapiro(np.log(df_total.loc[df_total.group == 1].metrik + 1))[1])"
   ]
  },
  {
   "cell_type": "markdown",
   "metadata": {},
   "source": [
    "#### Тест Манна-Уитни"
   ]
  },
  {
   "cell_type": "code",
   "execution_count": 28,
   "metadata": {},
   "outputs": [
    {
     "data": {
      "text/plain": [
       "MannwhitneyuResult(statistic=115084.0, pvalue=1.9273608741469226e-195)"
      ]
     },
     "execution_count": 28,
     "metadata": {},
     "output_type": "execute_result"
    }
   ],
   "source": [
    "stats.mannwhitneyu(df_total.loc[df_total.group == 0].metrik,\n",
    "                   df_total.loc[df_total.group == 1].metrik)"
   ]
  },
  {
   "cell_type": "markdown",
   "metadata": {},
   "source": [
    "#### Т-Тест"
   ]
  },
  {
   "cell_type": "code",
   "execution_count": 29,
   "metadata": {},
   "outputs": [
    {
     "data": {
      "text/plain": [
       "Ttest_indResult(statistic=-37.9488583614315, pvalue=8.932048526633796e-238)"
      ]
     },
     "execution_count": 29,
     "metadata": {},
     "output_type": "execute_result"
    }
   ],
   "source": [
    "stats.ttest_ind(df_total.loc[df_total.group == 0].metrik,\n",
    "                df_total.loc[df_total.group == 1].metrik)"
   ]
  },
  {
   "cell_type": "markdown",
   "metadata": {},
   "source": [
    "Т.к. наш p-уровень значимости получился меньше &alpha; (зададим его, как 0.05), то отвергаю $H_0$ и принимаю $H_1$, утверждая, что средние значения кастомных метрик AMOS двух экспериментальных групп статистиески значимо различаются.  \n",
    "**Таким образом показатель, отражающий среднее отношение мэтчей ко всем взаимодействиям (свайпам) всех пользователей, статзначимо больше в тестовой группе (`40.2%`), чем в контрольной (`19.3%`) на `20.9%`**"
   ]
  },
  {
   "cell_type": "code",
   "execution_count": null,
   "metadata": {},
   "outputs": [],
   "source": []
  },
  {
   "cell_type": "markdown",
   "metadata": {},
   "source": [
    "# Среднее число мэтчей"
   ]
  },
  {
   "cell_type": "markdown",
   "metadata": {},
   "source": [
    "Рассчитывается, как общее `общее количество мэтчей / число пользователей`"
   ]
  },
  {
   "cell_type": "markdown",
   "metadata": {},
   "source": [
    "$H_0$ - средние значения числа мэтчей в двух экспериментальных группах статистически значимо **не различаются**  \n",
    "$H_1$ - средние значения числа мэтчей в двух экспериментальных группах статистически значимо **различаются**   "
   ]
  },
  {
   "cell_type": "code",
   "execution_count": 30,
   "metadata": {},
   "outputs": [
    {
     "data": {
      "text/html": [
       "<div>\n",
       "<style scoped>\n",
       "    .dataframe tbody tr th:only-of-type {\n",
       "        vertical-align: middle;\n",
       "    }\n",
       "\n",
       "    .dataframe tbody tr th {\n",
       "        vertical-align: top;\n",
       "    }\n",
       "\n",
       "    .dataframe thead th {\n",
       "        text-align: right;\n",
       "    }\n",
       "</style>\n",
       "<table border=\"1\" class=\"dataframe\">\n",
       "  <thead>\n",
       "    <tr style=\"text-align: right;\">\n",
       "      <th></th>\n",
       "      <th>group</th>\n",
       "      <th>match_count</th>\n",
       "    </tr>\n",
       "  </thead>\n",
       "  <tbody>\n",
       "    <tr>\n",
       "      <th>0</th>\n",
       "      <td>0</td>\n",
       "      <td>1.864271</td>\n",
       "    </tr>\n",
       "    <tr>\n",
       "      <th>1</th>\n",
       "      <td>1</td>\n",
       "      <td>7.833667</td>\n",
       "    </tr>\n",
       "  </tbody>\n",
       "</table>\n",
       "</div>"
      ],
      "text/plain": [
       "   group  match_count\n",
       "0      0     1.864271\n",
       "1      1     7.833667"
      ]
     },
     "execution_count": 30,
     "metadata": {},
     "output_type": "execute_result"
    }
   ],
   "source": [
    "# Средние отличаются (но нужно узнать, статистически значимо ли)\n",
    "df_total.groupby('group', as_index = False).agg({'match_count' : 'mean'})"
   ]
  },
  {
   "cell_type": "code",
   "execution_count": 31,
   "metadata": {
    "scrolled": false
   },
   "outputs": [
    {
     "data": {
      "image/png": "[encoded data removed]",
      "text/plain": [
       "<Figure size 402.375x360 with 1 Axes>"
      ]
     },
     "metadata": {
      "needs_background": "light"
     },
     "output_type": "display_data"
    },
    {
     "name": "stdout",
     "output_type": "stream",
     "text": [
      "Дисперсия контрольной группы:  1.8518372436763202\n",
      "Дисперсия тестовой группы:  7.102593965486083\n",
      "p-value гомогенности дисперсий:  3.6550250503338187e-62\n",
      "\n",
      "p-value нормальности для контрольной группы:  ShapiroResult(statistic=0.9132312536239624, pvalue=1.7610877946952165e-23)\n",
      "p-value нормальности для тестовой группы:  ShapiroResult(statistic=0.9803898930549622, pvalue=2.432088419546119e-10)\n"
     ]
    }
   ],
   "source": [
    "# Проверим на нормальность распределние эксп. выборок перед применением стат. теста\n",
    "sns.displot(df_total, x = 'match_count', hue = 'group', kde = True)\n",
    "plt.show()\n",
    "\n",
    "print('Дисперсия контрольной группы: ', np.var(df_total.loc[df_total.group == 0].match_count))\n",
    "print('Дисперсия тестовой группы: ', np.var(df_total.loc[df_total.group == 1].match_count))\n",
    "\n",
    "print('p-value гомогенности дисперсий: ', stats.levene(df_total.loc[df_total.group == 0].match_count, \n",
    "                   df_total.loc[df_total.group == 1].match_count)[1])\n",
    "\n",
    "\n",
    "print('\\np-value нормальности для контрольной группы: ', stats.shapiro(df_total.loc[df_total.group == 0].match_count))\n",
    "print('p-value нормальности для тестовой группы: ', stats.shapiro(df_total.loc[df_total.group == 1].match_count))"
   ]
  },
  {
   "cell_type": "markdown",
   "metadata": {},
   "source": [
    "Условия нормальности распределений и гомогенности дисперсий необходимые для применения критерия Стьюдента - не выполнены. Поэтому примение непараметрического теста Манна-Уитни для оценки средних будет более подходящим. Так же, как и в предыдущей метрике - рассчитаю стат значимость и Т-тестом тоже."
   ]
  },
  {
   "cell_type": "markdown",
   "metadata": {},
   "source": [
    "#### Тест Манна-Уитни"
   ]
  },
  {
   "cell_type": "code",
   "execution_count": 32,
   "metadata": {
    "scrolled": true
   },
   "outputs": [
    {
     "data": {
      "text/plain": [
       "MannwhitneyuResult(statistic=20930.0, pvalue=3.811936940230116e-304)"
      ]
     },
     "execution_count": 32,
     "metadata": {},
     "output_type": "execute_result"
    }
   ],
   "source": [
    "stats.mannwhitneyu(df_total.loc[df_total.group == 0].match_count,\n",
    "                   df_total.loc[df_total.group == 1].match_count)"
   ]
  },
  {
   "cell_type": "markdown",
   "metadata": {},
   "source": [
    "#### Т-Тест"
   ]
  },
  {
   "cell_type": "code",
   "execution_count": 33,
   "metadata": {},
   "outputs": [
    {
     "data": {
      "text/plain": [
       "Ttest_indResult(statistic=-63.08819011546484, pvalue=0.0)"
      ]
     },
     "execution_count": 33,
     "metadata": {},
     "output_type": "execute_result"
    }
   ],
   "source": [
    "stats.ttest_ind(df_total.loc[df_total.group == 0].match_count,\n",
    "                df_total.loc[df_total.group == 1].match_count)"
   ]
  },
  {
   "cell_type": "code",
   "execution_count": 34,
   "metadata": {},
   "outputs": [
    {
     "data": {
      "text/html": [
       "<div>\n",
       "<style scoped>\n",
       "    .dataframe tbody tr th:only-of-type {\n",
       "        vertical-align: middle;\n",
       "    }\n",
       "\n",
       "    .dataframe tbody tr th {\n",
       "        vertical-align: top;\n",
       "    }\n",
       "\n",
       "    .dataframe thead th {\n",
       "        text-align: right;\n",
       "    }\n",
       "</style>\n",
       "<table border=\"1\" class=\"dataframe\">\n",
       "  <thead>\n",
       "    <tr style=\"text-align: right;\">\n",
       "      <th></th>\n",
       "      <th>group</th>\n",
       "      <th>match_count</th>\n",
       "    </tr>\n",
       "  </thead>\n",
       "  <tbody>\n",
       "    <tr>\n",
       "      <th>0</th>\n",
       "      <td>0</td>\n",
       "      <td>1.864271</td>\n",
       "    </tr>\n",
       "    <tr>\n",
       "      <th>1</th>\n",
       "      <td>1</td>\n",
       "      <td>7.833667</td>\n",
       "    </tr>\n",
       "  </tbody>\n",
       "</table>\n",
       "</div>"
      ],
      "text/plain": [
       "   group  match_count\n",
       "0      0     1.864271\n",
       "1      1     7.833667"
      ]
     },
     "execution_count": 34,
     "metadata": {},
     "output_type": "execute_result"
    }
   ],
   "source": [
    "# Изменения метрик\n",
    "df_total.groupby('group', as_index = False).agg({'match_count' : 'mean'})"
   ]
  },
  {
   "cell_type": "markdown",
   "metadata": {},
   "source": [
    "Т.к. наш p-уровень значимости в обоих тестах получился меньше &alpha; (0.05), то отвергаю $H_0$ и принимаю $H_1$, утверждая, что средние значения числа мэтчей двух экспериментальных групп статистиески значимо различаются.  \n",
    "**Таким образом среднее количество мэтчей в тестовой группе равное `7.83` мэтчей статзначимо больше, чем в контрольной, равное `1.86` мэтчей, на `5.97` мэтчей**"
   ]
  },
  {
   "cell_type": "code",
   "execution_count": null,
   "metadata": {},
   "outputs": [],
   "source": []
  },
  {
   "cell_type": "code",
   "execution_count": null,
   "metadata": {},
   "outputs": [],
   "source": []
  },
  {
   "cell_type": "code",
   "execution_count": null,
   "metadata": {},
   "outputs": [],
   "source": []
  },
  {
   "cell_type": "markdown",
   "metadata": {},
   "source": [
    "# Метрика конверсий по мэтчам"
   ]
  },
  {
   "cell_type": "markdown",
   "metadata": {},
   "source": [
    "В этом варианте мы будем работать с номинативными переменными. Важно отметить, что в качестве наблюдений мы теперь не будем брать каждого юзера по отдельности. Вместо этого, единицами наблюдений будут являться пары взаимодействий пользователей. Иными словами, взаимные свайпы для пользователей - показы в подорке и у одного, и у другого. Построим таблицу сопряженности частот мэтчей по каждой экспериментальной группе."
   ]
  },
  {
   "cell_type": "markdown",
   "metadata": {},
   "source": [
    "### Формулировка гипотез\n",
    "$H_0$: **Доля мэтчей среди всех пар пользователей не зависит от экспериментальной группы.** То есть статистически значимой взаимосвязи между статусом мэтчам и экспериментальными группами нет.  \n",
    "\n",
    "$H_1$: **Доля мэтчей среди всех пар пользователей зависит от экспериментальной группы.** То есть существует статистически значимая взаимосвязь между статусом мэтчам и экспериментальными группами.  "
   ]
  },
  {
   "cell_type": "code",
   "execution_count": 35,
   "metadata": {},
   "outputs": [],
   "source": [
    "conversion_df = df.reset_index().rename(columns = {'index' : 'pair_id'})"
   ]
  },
  {
   "cell_type": "code",
   "execution_count": 36,
   "metadata": {},
   "outputs": [
    {
     "data": {
      "text/html": [
       "<div>\n",
       "<style scoped>\n",
       "    .dataframe tbody tr th:only-of-type {\n",
       "        vertical-align: middle;\n",
       "    }\n",
       "\n",
       "    .dataframe tbody tr th {\n",
       "        vertical-align: top;\n",
       "    }\n",
       "\n",
       "    .dataframe thead th {\n",
       "        text-align: right;\n",
       "    }\n",
       "</style>\n",
       "<table border=\"1\" class=\"dataframe\">\n",
       "  <thead>\n",
       "    <tr style=\"text-align: right;\">\n",
       "      <th></th>\n",
       "      <th>group</th>\n",
       "      <th>is_match</th>\n",
       "    </tr>\n",
       "  </thead>\n",
       "  <tbody>\n",
       "    <tr>\n",
       "      <th>0</th>\n",
       "      <td>0</td>\n",
       "      <td>934</td>\n",
       "    </tr>\n",
       "    <tr>\n",
       "      <th>1</th>\n",
       "      <td>1</td>\n",
       "      <td>3909</td>\n",
       "    </tr>\n",
       "  </tbody>\n",
       "</table>\n",
       "</div>"
      ],
      "text/plain": [
       "   group  is_match\n",
       "0      0       934\n",
       "1      1      3909"
      ]
     },
     "execution_count": 36,
     "metadata": {},
     "output_type": "execute_result"
    }
   ],
   "source": [
    "conversion_df.groupby('group', as_index = False).agg({'is_match' : 'sum'})"
   ]
  },
  {
   "cell_type": "markdown",
   "metadata": {},
   "source": [
    "Построим таблицу сопраженности частот мэтчей, не мэтчей и всех взаимодействий"
   ]
  },
  {
   "cell_type": "code",
   "execution_count": 37,
   "metadata": {},
   "outputs": [],
   "source": [
    "crosstab = pd.crosstab(conversion_df.group, conversion_df.is_match, rownames=['group'], colnames=[''])\n",
    "crosstab['interactions'] = crosstab[0] + crosstab[1]\n",
    "crosstab = crosstab.append(crosstab.sum(), ignore_index=True) \\\n",
    "    .rename(index = {0 : 'control', 1 : 'test', 2 : 'total'},\n",
    "            columns = {'is_match' : '', 0 : 'not_match', 1 : 'match'})"
   ]
  },
  {
   "cell_type": "code",
   "execution_count": 38,
   "metadata": {},
   "outputs": [],
   "source": [
    "crosstab['conversion'] = (crosstab['match'] / crosstab['interactions'] * 100).round(3)"
   ]
  },
  {
   "cell_type": "code",
   "execution_count": 39,
   "metadata": {},
   "outputs": [
    {
     "data": {
      "text/html": [
       "<div>\n",
       "<style scoped>\n",
       "    .dataframe tbody tr th:only-of-type {\n",
       "        vertical-align: middle;\n",
       "    }\n",
       "\n",
       "    .dataframe tbody tr th {\n",
       "        vertical-align: top;\n",
       "    }\n",
       "\n",
       "    .dataframe thead th {\n",
       "        text-align: right;\n",
       "    }\n",
       "</style>\n",
       "<table border=\"1\" class=\"dataframe\">\n",
       "  <thead>\n",
       "    <tr style=\"text-align: right;\">\n",
       "      <th></th>\n",
       "      <th>not_match</th>\n",
       "      <th>match</th>\n",
       "      <th>interactions</th>\n",
       "      <th>conversion</th>\n",
       "    </tr>\n",
       "  </thead>\n",
       "  <tbody>\n",
       "    <tr>\n",
       "      <th>control</th>\n",
       "      <td>3858</td>\n",
       "      <td>934</td>\n",
       "      <td>4792</td>\n",
       "      <td>19.491</td>\n",
       "    </tr>\n",
       "    <tr>\n",
       "      <th>test</th>\n",
       "      <td>5813</td>\n",
       "      <td>3909</td>\n",
       "      <td>9722</td>\n",
       "      <td>40.208</td>\n",
       "    </tr>\n",
       "    <tr>\n",
       "      <th>total</th>\n",
       "      <td>9671</td>\n",
       "      <td>4843</td>\n",
       "      <td>14514</td>\n",
       "      <td>33.368</td>\n",
       "    </tr>\n",
       "  </tbody>\n",
       "</table>\n",
       "</div>"
      ],
      "text/plain": [
       "         not_match  match  interactions  conversion\n",
       "control       3858    934          4792      19.491\n",
       "test          5813   3909          9722      40.208\n",
       "total         9671   4843         14514      33.368"
      ]
     },
     "execution_count": 39,
     "metadata": {},
     "output_type": "execute_result"
    }
   ],
   "source": [
    "crosstab"
   ]
  },
  {
   "cell_type": "markdown",
   "metadata": {},
   "source": [
    "Условия применения (независимость переменных и количества наблюдений) выполнены. Проведем критерий Хи-квадрат."
   ]
  },
  {
   "cell_type": "markdown",
   "metadata": {},
   "source": [
    "#### Тест Хи-квадрат"
   ]
  },
  {
   "cell_type": "code",
   "execution_count": 40,
   "metadata": {},
   "outputs": [
    {
     "data": {
      "text/plain": [
       "(619.6383108302939,\n",
       " 2.800595684585814e-135,\n",
       " 2,\n",
       " array([[3192.8702151 , 1598.91122446,   19.70956044],\n",
       "        [6478.1297849 , 3244.08877554,   39.98943956]]))"
      ]
     },
     "execution_count": 40,
     "metadata": {},
     "output_type": "execute_result"
    }
   ],
   "source": [
    "stats.chi2_contingency(crosstab.drop(columns = 'interactions', index = 'total'))"
   ]
  },
  {
   "cell_type": "markdown",
   "metadata": {},
   "source": [
    "Проведенный тест **Хи-квадрат** дает нам основания опровергнуть $H_0$ и принять  $H_1$, т.к. p-value (1.44e-136) < &alpha;.  \n",
    "**Мы с более чем 95%-й вероятностью можем быть уверены, что распределение мэтчей среди пар по группам стат значимо различается. Таким образом, в тестовой группе по сравнению с контрольной присутсвует закономерное увеличение конверсии на `~20.7%`**"
   ]
  },
  {
   "cell_type": "code",
   "execution_count": null,
   "metadata": {},
   "outputs": [],
   "source": []
  },
  {
   "cell_type": "markdown",
   "metadata": {},
   "source": [
    "# Общий вывод"
   ]
  },
  {
   "cell_type": "markdown",
   "metadata": {},
   "source": [
    "В ходе выполнения анализа были произведены расчеты трех метрик. Первые две, кастомная метрика `AMOS` и метрика `среднего числа мэтчей`, были посчитаны по всем пользователям (2000). Третья метрика, `конверсия в мэтч`, рассчитана по парам взаимодействующих пользователей(1000), изначально присутствующих в наших данных."
   ]
  },
  {
   "cell_type": "markdown",
   "metadata": {},
   "source": [
    "Статистический анализ метрики `AMOS` показал, что мы имеем закономерность в увеличении средней доли мэтчей среди взаимодействий по пользователям на `20.9%`. В контрольной группе - `19.3`, в тестовой - `40.2`. Думаю, этот показатель хорошо отражает результат обновленного алгоритма поиска подходящих анкет, т.к. пользователи будут больше удовлетворены при более частых мэтчах при более редких свайпах."
   ]
  },
  {
   "cell_type": "markdown",
   "metadata": {},
   "source": [
    "Статистический анализ метрики `среднего числа мэтчей` показал, что увеличение среднего числа мэтчей по пользователям на `5.97` закономерно. В контрольной - `1.86`, в тестовой - `7.83`. Это также отражает положительный результат работы алгоритма, т.к., помимо коррелирования на метрику `AMOS`, по большому числу мэтчей можно сделать различные заключения, например, что пользователи стали более заинтересованы нашим сервисом. Это, хоть и косвенно, но может являться следствием работы нашего алгоритма поиска подходящих анкет."
   ]
  },
  {
   "cell_type": "markdown",
   "metadata": {},
   "source": [
    "Статистический анализ метрики `конверсии по мэтчам` показал, что конверсия в мэтч каждой взаимодействующей пары стат значимо увеличилось на `20.7%`. В контрольной группе - `19.5%`, в тестовой - `40.2%`. Отмечу, что эта метрика очень сильно коррелирует с метрикой `AMOS` (отсюда и такие близкие значения), поэтому ее изменения тоже являются положительными результатами работы нашего алгоритмы"
   ]
  },
  {
   "cell_type": "markdown",
   "metadata": {},
   "source": [
    "В общем, считаю, что данные метрики неплохо оценивают результат работы нового алгоритма.    \n",
    "\n",
    "**Результаты сравнения метрик `AMOS`, `среднего числа мэтчей` и `конверсии по мэтчам` между экспериментальными группами показали заметные статзначимые увеличения метрик. Поэтому считаю, что алгоритм положительно повлиял на качество сервиса и его стоит включить на всех пользователей.**\n"
   ]
  },
  {
   "cell_type": "code",
   "execution_count": null,
   "metadata": {},
   "outputs": [],
   "source": []
  }
 ],
 "metadata": {
  "kernelspec": {
   "display_name": "Python 3",
   "language": "python",
   "name": "python3"
  },
  "language_info": {
   "codemirror_mode": {
    "name": "ipython",
    "version": 3
   },
   "file_extension": ".py",
   "mimetype": "text/x-python",
   "name": "python",
   "nbconvert_exporter": "python",
   "pygments_lexer": "ipython3",
   "version": "3.7.3"
  }
 },
 "nbformat": 4,
 "nbformat_minor": 4
}
